{
 "cells": [
  {
   "cell_type": "markdown",
   "id": "50ffc4b5-28b9-493e-a454-66bb38f0cce2",
   "metadata": {},
   "source": [
    "1. Declare two variables, x and y, and assign them integer values. Swap the values of these variables without using any temporary variable"
   ]
  },
  {
   "cell_type": "code",
   "execution_count": 1,
   "id": "958f24ae-5480-42d4-baf3-ab721ceda13e",
   "metadata": {},
   "outputs": [],
   "source": [
    "x=30\n",
    "y=40"
   ]
  },
  {
   "cell_type": "code",
   "execution_count": 2,
   "id": "07d46acd-d9f8-4878-aac3-a405562f361f",
   "metadata": {},
   "outputs": [
    {
     "data": {
      "text/plain": [
       "(40, 30)"
      ]
     },
     "execution_count": 2,
     "metadata": {},
     "output_type": "execute_result"
    }
   ],
   "source": [
    "x=x+y\n",
    "y=x-y\n",
    "x=x-y\n",
    "x,y"
   ]
  },
  {
   "cell_type": "code",
   "execution_count": 8,
   "id": "57063b96-52dc-4154-9802-752cf77259de",
   "metadata": {},
   "outputs": [],
   "source": [
    "#or by swap method\n",
    "x,y=y,x"
   ]
  },
  {
   "cell_type": "code",
   "execution_count": 9,
   "id": "5a5dff49-1c1e-4c80-b454-cd0e6ba8ba85",
   "metadata": {},
   "outputs": [
    {
     "data": {
      "text/plain": [
       "(40, 30)"
      ]
     },
     "execution_count": 9,
     "metadata": {},
     "output_type": "execute_result"
    }
   ],
   "source": [
    "x,y"
   ]
  },
  {
   "cell_type": "markdown",
   "id": "25f94cc4-0cf6-4913-b395-2e02d16ac27d",
   "metadata": {},
   "source": [
    "2.Create a program that calculates the area of a rectangle. Take the length and width as inputs from the user and store them in variables. Calculate and display the area."
   ]
  },
  {
   "cell_type": "code",
   "execution_count": 10,
   "id": "82c1252f-0c69-4ae7-bbca-182ca9858099",
   "metadata": {},
   "outputs": [
    {
     "name": "stdin",
     "output_type": "stream",
     "text": [
      "enter the length: 4\n",
      "enter the width: 5\n"
     ]
    },
    {
     "name": "stdout",
     "output_type": "stream",
     "text": [
      "area of rectangle is  20.0\n"
     ]
    }
   ],
   "source": [
    "l=float (input(\"enter the length:\"))\n",
    "w=float(input(\"enter the width:\"))\n",
    "a=l*w\n",
    "print (\"area of rectangle is \",a)"
   ]
  },
  {
   "cell_type": "markdown",
   "id": "d315ee1c-0496-4c12-9d1b-fc8169e8c012",
   "metadata": {},
   "source": [
    "3.Write a Python program that converts temperatures from Celsius to Fahrenheit. Take the temperature in Celsius as input, store it in a variable, convert it to Fahrenheit, and display the result."
   ]
  },
  {
   "cell_type": "code",
   "execution_count": 11,
   "id": "1736c263-96f8-414a-a16d-1d1d795ef2dd",
   "metadata": {},
   "outputs": [
    {
     "name": "stdin",
     "output_type": "stream",
     "text": [
      "Enter temperature in celsius: 56\n"
     ]
    },
    {
     "name": "stdout",
     "output_type": "stream",
     "text": [
      "temperature in Fahrenheit is 132.8\n"
     ]
    }
   ],
   "source": [
    "c=float(input(\"Enter temperature in celsius:\"))\n",
    "f=(c*9/5)+32\n",
    "print(\"temperature in Fahrenheit is\", f)"
   ]
  },
  {
   "cell_type": "markdown",
   "id": "167a2145-c587-4365-8bc7-f8627e5b0b31",
   "metadata": {},
   "source": [
    "TOPIC: String Based Questions"
   ]
  },
  {
   "cell_type": "markdown",
   "id": "3c4050da-716c-4d74-b71e-8930c8ed644a",
   "metadata": {},
   "source": [
    "1. Write a Python program that takes a string as input and prints the length of\n",
    "the string."
   ]
  },
  {
   "cell_type": "code",
   "execution_count": 15,
   "id": "90d55e1a-6b23-4edd-8a39-3b2555d787b7",
   "metadata": {},
   "outputs": [
    {
     "name": "stdin",
     "output_type": "stream",
     "text": [
      "Name: Neelam\n"
     ]
    },
    {
     "name": "stdout",
     "output_type": "stream",
     "text": [
      "Name is 6\n"
     ]
    }
   ],
   "source": [
    "a=(input(\"Name:\")) \n",
    "b=len(a)\n",
    "print (\"Name is\",b)"
   ]
  },
  {
   "cell_type": "markdown",
   "id": "758f4698-7037-4e34-8ba7-7e0a04458ded",
   "metadata": {},
   "source": [
    "2. Create a program that takes a sentence from the user and counts the number\n",
    "of vowels (a, e, i, o, u) in the string."
   ]
  },
  {
   "cell_type": "code",
   "execution_count": 16,
   "id": "10e9bfa3-92fd-45bb-8525-354378321b9e",
   "metadata": {},
   "outputs": [
    {
     "name": "stdin",
     "output_type": "stream",
     "text": [
      "enter a sentence: This is Python class from Data science\n"
     ]
    },
    {
     "name": "stdout",
     "output_type": "stream",
     "text": [
      "number of vowels count 10\n"
     ]
    }
   ],
   "source": [
    "a=input(\"enter a sentence:\")\n",
    "vowel_count=a.count('a')+a.count('e')+a.count('i')+a.count('o')+a.count('u')\n",
    "print(\"number of vowels count\", vowel_count)"
   ]
  },
  {
   "cell_type": "markdown",
   "id": "6c49113d-502a-400c-9c82-40316e5c79b3",
   "metadata": {},
   "source": [
    "3. Given a string, reverse the order of characters using string slicing and print the reversed string."
   ]
  },
  {
   "cell_type": "code",
   "execution_count": 17,
   "id": "2b0b5ba4-151c-4329-95a6-23873a2c2e4d",
   "metadata": {},
   "outputs": [
    {
     "name": "stdin",
     "output_type": "stream",
     "text": [
      "Enter a string: Hello Brown\n"
     ]
    },
    {
     "name": "stdout",
     "output_type": "stream",
     "text": [
      "The reverse string is nworB olleH\n"
     ]
    }
   ],
   "source": [
    "c=input(\"Enter a string:\")\n",
    "rev=c[::-1]\n",
    "print(\"The reverse string is\",rev)"
   ]
  },
  {
   "cell_type": "markdown",
   "id": "ff1e6b47-f48f-43ae-a526-43d94249f0f5",
   "metadata": {},
   "source": [
    "4. Write a program that takes a string as input and checks if it is a palindrome\n",
    "(reads the same forwards and backwards)."
   ]
  },
  {
   "cell_type": "code",
   "execution_count": 18,
   "id": "9634c3cd-83d1-4ce1-b537-a4eb1a5e3138",
   "metadata": {},
   "outputs": [
    {
     "name": "stdin",
     "output_type": "stream",
     "text": [
      "Enter a string: Pharmacology\n"
     ]
    },
    {
     "name": "stdout",
     "output_type": "stream",
     "text": [
      "Not a Palindrome\n"
     ]
    }
   ],
   "source": [
    "b=input(\"Enter a string:\")\n",
    "if b==b[: :-1]:\n",
    "    print(\"Palindrome\")\n",
    "    \n",
    "else:\n",
    "    print(\"Not a Palindrome\")"
   ]
  },
  {
   "cell_type": "markdown",
   "id": "99c39211-4799-41d7-9249-cacd3856f812",
   "metadata": {},
   "source": [
    "5. Create a program that takes a string as input and removes all the spaces from\n",
    "it. Print the modified string without spaces."
   ]
  },
  {
   "cell_type": "code",
   "execution_count": 19,
   "id": "74e2524c-a4f7-4608-a532-c205a3617ac5",
   "metadata": {},
   "outputs": [
    {
     "name": "stdin",
     "output_type": "stream",
     "text": [
      "Enter a string This is Data science session\n"
     ]
    },
    {
     "name": "stdout",
     "output_type": "stream",
     "text": [
      "Enterd string without space ThisisDatasciencesession\n"
     ]
    }
   ],
   "source": [
    "d=input(\"Enter a string\")\n",
    "d1=d.replace(\" \",\"\")\n",
    "print(\"Enterd string without space\",d1)"
   ]
  },
  {
   "cell_type": "code",
   "execution_count": null,
   "id": "ffd72044-5f3f-4b76-b8be-78caed558fb0",
   "metadata": {},
   "outputs": [],
   "source": []
  }
 ],
 "metadata": {
  "kernelspec": {
   "display_name": "Python 3 (ipykernel)",
   "language": "python",
   "name": "python3"
  },
  "language_info": {
   "codemirror_mode": {
    "name": "ipython",
    "version": 3
   },
   "file_extension": ".py",
   "mimetype": "text/x-python",
   "name": "python",
   "nbconvert_exporter": "python",
   "pygments_lexer": "ipython3",
   "version": "3.10.8"
  }
 },
 "nbformat": 4,
 "nbformat_minor": 5
}
